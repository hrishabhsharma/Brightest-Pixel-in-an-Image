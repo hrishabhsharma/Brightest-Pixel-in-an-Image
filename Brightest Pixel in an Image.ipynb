{
 "cells": [
  {
   "cell_type": "code",
   "execution_count": 24,
   "metadata": {},
   "outputs": [],
   "source": [
    "import cv2"
   ]
  },
  {
   "cell_type": "code",
   "execution_count": 25,
   "metadata": {},
   "outputs": [],
   "source": [
    "photo = cv2.imread('image.jpg')\n",
    "photo = cv2.resize(photo,(500,500))"
   ]
  },
  {
   "cell_type": "code",
   "execution_count": 26,
   "metadata": {},
   "outputs": [],
   "source": [
    "cv2.imshow(\"image\", photo)\n",
    "cv2.waitKey()\n",
    "cv2.destroyAllWindows() "
   ]
  },
  {
   "cell_type": "code",
   "execution_count": 27,
   "metadata": {},
   "outputs": [
    {
     "data": {
      "text/plain": [
       "(500, 500, 3)"
      ]
     },
     "execution_count": 27,
     "metadata": {},
     "output_type": "execute_result"
    }
   ],
   "source": [
    "photo.shape\n"
   ]
  },
  {
   "cell_type": "code",
   "execution_count": 28,
   "metadata": {},
   "outputs": [],
   "source": [
    "gray = cv2.cvtColor(photo, cv2.COLOR_BGR2GRAY)"
   ]
  },
  {
   "cell_type": "code",
   "execution_count": 29,
   "metadata": {},
   "outputs": [],
   "source": [
    "cv2.imshow(\"image\", gray)\n",
    "cv2.waitKey()\n",
    "cv2.destroyAllWindows()"
   ]
  },
  {
   "cell_type": "code",
   "execution_count": 30,
   "metadata": {},
   "outputs": [
    {
     "data": {
      "text/plain": [
       "array([[[47, 20, 16],\n",
       "        [44, 15, 11],\n",
       "        [44, 13, 12],\n",
       "        ...,\n",
       "        [41, 15,  9],\n",
       "        [36, 11,  6],\n",
       "        [40, 16, 12]],\n",
       "\n",
       "       [[45, 15, 14],\n",
       "        [42, 12, 11],\n",
       "        [42, 11, 10],\n",
       "        ...,\n",
       "        [48, 23, 18],\n",
       "        [35, 10,  5],\n",
       "        [41, 16, 13]],\n",
       "\n",
       "       [[44, 15, 13],\n",
       "        [43, 12, 11],\n",
       "        [47, 16, 15],\n",
       "        ...,\n",
       "        [44, 18, 11],\n",
       "        [42, 16, 10],\n",
       "        [42, 15, 11]],\n",
       "\n",
       "       ...,\n",
       "\n",
       "       [[72, 36,  6],\n",
       "        [78, 41, 12],\n",
       "        [78, 39, 10],\n",
       "        ...,\n",
       "        [41, 21,  3],\n",
       "        [52, 32, 15],\n",
       "        [43, 25,  8]],\n",
       "\n",
       "       [[80, 44, 14],\n",
       "        [71, 33,  3],\n",
       "        [76, 38,  8],\n",
       "        ...,\n",
       "        [48, 28, 10],\n",
       "        [49, 31, 14],\n",
       "        [43, 24,  9]],\n",
       "\n",
       "       [[72, 37,  4],\n",
       "        [77, 39,  7],\n",
       "        [77, 39,  7],\n",
       "        ...,\n",
       "        [43, 25,  8],\n",
       "        [47, 31, 14],\n",
       "        [42, 26,  9]]], dtype=uint8)"
      ]
     },
     "execution_count": 30,
     "metadata": {},
     "output_type": "execute_result"
    }
   ],
   "source": [
    "(minVal, maxVal, minLoc, maxLoc) = cv2.minMaxLoc(gray)\n",
    "cv2.circle(photo, maxLoc, 7, (0, 255, 0), 2)"
   ]
  },
  {
   "cell_type": "code",
   "execution_count": 31,
   "metadata": {},
   "outputs": [],
   "source": [
    "cv2.imshow(\"brightest pixel\", photo)\n",
    "cv2.waitKey()\n",
    "cv2.destroyAllWindows() "
   ]
  },
  {
   "cell_type": "code",
   "execution_count": null,
   "metadata": {},
   "outputs": [],
   "source": []
  }
 ],
 "metadata": {
  "kernelspec": {
   "display_name": "Python 3",
   "language": "python",
   "name": "python3"
  },
  "language_info": {
   "codemirror_mode": {
    "name": "ipython",
    "version": 3
   },
   "file_extension": ".py",
   "mimetype": "text/x-python",
   "name": "python",
   "nbconvert_exporter": "python",
   "pygments_lexer": "ipython3",
   "version": "3.7.6"
  }
 },
 "nbformat": 4,
 "nbformat_minor": 4
}
